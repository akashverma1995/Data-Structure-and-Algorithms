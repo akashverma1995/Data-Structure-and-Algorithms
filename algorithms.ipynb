{
 "cells": [
  {
   "cell_type": "markdown",
   "metadata": {},
   "source": [
    "# DP Problem"
   ]
  },
  {
   "cell_type": "markdown",
   "metadata": {},
   "source": [
    "# 0/1 -\n",
    "Knapsack"
   ]
  },
  {
   "cell_type": "markdown",
   "metadata": {},
   "source": [
    "we have been given one array and sum, we have to find that subarray of array is equal or not to sum "
   ]
  },
  {
   "cell_type": "code",
   "execution_count": null,
   "metadata": {},
   "outputs": [],
   "source": [
    "# arr=[1,2,3,5,8] sum=11\n"
   ]
  },
  {
   "cell_type": "code",
   "execution_count": 6,
   "metadata": {
    "ExecuteTime": {
     "end_time": "2021-05-11T19:47:28.121898Z",
     "start_time": "2021-05-11T19:47:28.097784Z"
    }
   },
   "outputs": [
    {
     "name": "stdout",
     "output_type": "stream",
     "text": [
      "True    False    False    False    False    False    False    False    \n",
      "True    True    False    False    False    False    False    False    \n",
      "True    True    True    True    False    False    False    False    \n",
      "True    True    True    True    True    True    True    False    \n",
      "True    True    True    True    True    True    True    True    \n",
      "True    True    True    True    True    True    True    True    \n",
      "Got it\n"
     ]
    }
   ],
   "source": [
    "def issubarray(arr,n,sum1):\n",
    "    row,col=n+1,sum1+1\n",
    "    arr1=([[False for i in range(sum1 + 1)]  \n",
    "            for i in range(n + 1)]) \n",
    "          \n",
    "#     arr1=[[False]*col]*row\n",
    "    for i in range(row):\n",
    "        arr1[i][0]=True\n",
    "        \n",
    "    for i in range(1,col):\n",
    "        arr1[0][i]=False\n",
    "        \n",
    "    for i in range(1,row):\n",
    "        for j in range(1,col):\n",
    "            if(j<arr[i-1]):\n",
    "                arr1[i][j]=arr1[i-1][j]\n",
    "            if(j>=arr[i-1]):\n",
    "                arr1[i][j]=(arr1[i-1][j] or arr1[i-1][j-arr[i-1]] )\n",
    "  \n",
    "                \n",
    "    for i in range(row):\n",
    "        for j in range(col):\n",
    "            print(arr1[i][j],end=\"    \")\n",
    "        print()    \n",
    "                \n",
    "    return arr1[n][sum1]\n",
    "\n",
    "# arr=[3, 34, 4, 12, 5, 2] \n",
    "# sum1=9\n",
    "arr=[1,2,3,5,8] \n",
    "sum1=7\n",
    "n=len(arr)\n",
    "if(issubarray(arr,n,sum1)==True):\n",
    "    print(\"Got it\")\n",
    "else:\n",
    "    print(\"NOt got it\")"
   ]
  },
  {
   "cell_type": "code",
   "execution_count": 27,
   "metadata": {},
   "outputs": [],
   "source": [
    "# subset =([[False for i in range(sum + 1)]  \n",
    "#             for i in range(n + 1)]) \n",
    "# print(subset)"
   ]
  },
  {
   "cell_type": "code",
   "execution_count": 26,
   "metadata": {},
   "outputs": [],
   "source": [
    "# row,col=7,10\n",
    "# arr=[[False]*col]*row\n",
    "# print(arr)"
   ]
  },
  {
   "cell_type": "code",
   "execution_count": null,
   "metadata": {},
   "outputs": [],
   "source": []
  },
  {
   "cell_type": "markdown",
   "metadata": {},
   "source": [
    "Partition problem is to determine whether a given set can be partitioned into two subsets such that the sum of elements in both subsets is same.......\n",
    "arr[] = {1, 5, 11, 5}\n",
    "Output: true \n",
    "The array can be partitioned as {1, 5, 5} and {11}"
   ]
  },
  {
   "cell_type": "code",
   "execution_count": 34,
   "metadata": {},
   "outputs": [
    {
     "name": "stdout",
     "output_type": "stream",
     "text": [
      "True\n"
     ]
    }
   ],
   "source": [
    "def isSubsetSum(arr,n,sum1):\n",
    "    arr1=[[False for i in range(sum1+1)] for j in range(n+1)]\n",
    "    \n",
    "    for i in range(n+1):\n",
    "        arr1[i][0]=True\n",
    "        \n",
    "    for i in range(1,sum1+1):\n",
    "        arr1[0][i]=False\n",
    "        \n",
    "    for i in range(n+1):\n",
    "        for j in range(sum1+1):\n",
    "            if(arr[i-1]>j):\n",
    "                arr1[i][j]=arr1[i-1][j]\n",
    "            if(arr[i-1]<=j):\n",
    "                arr1[i][j]=(arr1[i-1][j] or arr1[i-1][j-arr[i-1]])\n",
    "                \n",
    "    return arr1[n][sum1]            \n",
    "        \n",
    "arr=[1,5,11,5]\n",
    "n=len(arr)\n",
    "sum1=0\n",
    "for i in arr:\n",
    "    sum1=sum1+i\n",
    "\n",
    "if(sum1%2!=0):\n",
    "    print(\"False\")\n",
    "else:\n",
    "    p=isSubsetSum(arr,n,sum1//2)\n",
    "    if(p==True):\n",
    "        print(\"True\")\n",
    "    else:\n",
    "        print(\"False\")"
   ]
  },
  {
   "cell_type": "code",
   "execution_count": null,
   "metadata": {},
   "outputs": [],
   "source": []
  },
  {
   "cell_type": "markdown",
   "metadata": {},
   "source": [
    "Given an array arr[] of length N and an integer X, the task is to find the number of subsets with sum equal to X\n",
    "\n",
    "Input: arr[] = {1, 2, 3, 3}, X = 6\n",
    "Output: 3"
   ]
  },
  {
   "cell_type": "code",
   "execution_count": 3,
   "metadata": {
    "ExecuteTime": {
     "end_time": "2021-05-12T07:03:21.702567Z",
     "start_time": "2021-05-12T07:03:21.670787Z"
    }
   },
   "outputs": [
    {
     "name": "stdout",
     "output_type": "stream",
     "text": [
      "1 0 0 0 0 0 0 0 \n",
      "1 1 0 0 0 0 0 0 \n",
      "1 1 1 1 0 0 0 0 \n",
      "1 1 1 2 1 1 1 0 \n",
      "1 1 1 3 2 2 3 1 \n",
      "1\n"
     ]
    }
   ],
   "source": [
    "##### count the subset of sum of given sum\n",
    "def fun(arr,n,sum1):\n",
    "    arr1=[[0 for i in range(sum1+1)] for j in range(n+1)]\n",
    "    for i in range(n+1):\n",
    "        arr1[i][0]=1\n",
    "        \n",
    "    for i in range(1,sum1+1):\n",
    "        arr1[0][i]=0\n",
    "        \n",
    "    for i in range(1,n+1):\n",
    "        for j in range(1,sum1+1):\n",
    "            if(arr[i-1]<=j):\n",
    "                arr1[i][j]=(arr1[i-1][j]+arr1[i-1][j-arr[i-1]])\n",
    "            if(arr[i-1]>j):# either you can put else or if it depends on you......\n",
    "                arr1[i][j]=arr1[i-1][j]\n",
    "                \n",
    "    for i in range(n+1):\n",
    "        for j in range(sum1+1):\n",
    "            print(arr1[i][j],end=' ')\n",
    "        print()    \n",
    "\n",
    "                \n",
    "    return arr1[n][sum1]\n",
    "\n",
    "p=[1,2,3,3]\n",
    "X=7\n",
    "print(fun(p,len(p),X))"
   ]
  },
  {
   "cell_type": "code",
   "execution_count": null,
   "metadata": {},
   "outputs": [],
   "source": []
  },
  {
   "cell_type": "markdown",
   "metadata": {},
   "source": [
    "Given a set of integers, the task is to divide it into two sets S1 and S2 such that the absolute difference between their sums is minimum.\n",
    "\n",
    "Input:  arr[] = {1, 6, 11, 5} \n",
    "Output: 1\n",
    "Explanation:\n",
    "Subset1 = {1, 5, 6}, sum of Subset1 = 12 \n",
    "Subset2 = {11}, sum of Subset2 = 11    "
   ]
  },
  {
   "cell_type": "code",
   "execution_count": 27,
   "metadata": {},
   "outputs": [
    {
     "name": "stdout",
     "output_type": "stream",
     "text": [
      "[0, 1, 5, 6, 7, 10, 11]\n",
      "[23, 21, 13, 11, 9, 3, 1]\n",
      "1\n"
     ]
    }
   ],
   "source": [
    "#### Minimum subset Sum Difference\n",
    "\n",
    "def fun(arr,n,sum1):\n",
    "    arr1=[[False for i in range(sum1+1)] for j in range(n+1)]\n",
    "    \n",
    "    for i in range(n+1):\n",
    "        arr1[i][0]=True\n",
    "        \n",
    "    for i in range(1,sum1+1):\n",
    "        arr1[0][i]=False\n",
    "        \n",
    "    for i in range(n+1):\n",
    "        for j in range(sum1+1):\n",
    "            if(arr[i-1]<=j):\n",
    "                arr1[i][j]=(arr1[i-1][j] or arr1[i-1][j-arr[i-1]])\n",
    "            else:\n",
    "                arr1[i][j]=arr1[i-1][j]\n",
    "                \n",
    "    index_arr=[]\n",
    "    for i in range(sum1//2+1):\n",
    "        if(arr1[n][i]==True):\n",
    "            index_arr.append(i)\n",
    "     \n",
    "    print(index_arr)\n",
    "    min_arr=[]\n",
    "    for i in index_arr:\n",
    "        min_arr.append(sum1-2*i)\n",
    "       \n",
    "    print(min_arr)\n",
    "    \n",
    "    return min(min_arr)\n",
    "\n",
    "arr=[1,6,11,5]\n",
    "n=len(arr)\n",
    "sum1=sum(arr)\n",
    "\n",
    "print(fun(arr,n,sum1))\n",
    "            \n",
    "            \n",
    "              \n",
    "            \n",
    "                "
   ]
  },
  {
   "cell_type": "code",
   "execution_count": 10,
   "metadata": {},
   "outputs": [
    {
     "name": "stdout",
     "output_type": "stream",
     "text": [
      "[0, 1, 2, 3]\n"
     ]
    }
   ],
   "source": [
    "### rough work\n",
    "p=[[1]*8]*5\n",
    "p[4][4]=0\n",
    "p[4][5]=0\n",
    "p[4][6]=0\n",
    "p[4][7]=0\n",
    "p=p[4][:]\n",
    "o=[]\n",
    "\n",
    "for i in range(len(p)):\n",
    "    if(p[i]==1):\n",
    "        o.append(i)\n",
    "print(o)"
   ]
  },
  {
   "cell_type": "code",
   "execution_count": null,
   "metadata": {},
   "outputs": [],
   "source": []
  },
  {
   "cell_type": "code",
   "execution_count": 40,
   "metadata": {},
   "outputs": [
    {
     "name": "stdout",
     "output_type": "stream",
     "text": [
      "1 1 0 0 0 \n",
      "1 2 1 0 0 \n",
      "1 2 2 2 1 \n",
      "1 2 2 3 3 \n",
      "3\n"
     ]
    }
   ],
   "source": [
    "#### count number of subset if given difference\n",
    "def fun(arr,n,sum1):\n",
    "    arr1=[[0 for i in range(sum1+1)] for j in range(n+1)]\n",
    "    for i in range(n+1):\n",
    "        arr1[i][0]=1\n",
    "    for j in range(1,sum1+1):\n",
    "        arr1[0][j]=0\n",
    "        \n",
    "    for i in range(1,n+1):\n",
    "        for j in range(1,sum1+1):\n",
    "            if(arr[i-1]<=j):\n",
    "                arr1[i][j]=( arr1[i-1][j] + arr1[i-1][j-arr[i-1]] )\n",
    "            if(arr[i-1]>j):\n",
    "                arr1[i][j]=arr1[i-1][j]\n",
    "                \n",
    "    for i in range(1,n+1):\n",
    "        for j in range(sum1+1):\n",
    "            print(arr1[i][j],end=\" \")\n",
    "        print()    \n",
    "    return arr1[n][sum1]\n",
    "\n",
    "arr=[1,1,2,3]\n",
    "n=len(arr)\n",
    "diff=1\n",
    "sum1=(diff+(sum(arr)))//2\n",
    "# print(sum1)\n",
    "print(fun(arr,n,sum1))"
   ]
  },
  {
   "cell_type": "code",
   "execution_count": null,
   "metadata": {},
   "outputs": [],
   "source": []
  },
  {
   "cell_type": "markdown",
   "metadata": {},
   "source": [
    "You are given a list of non-negative integers, a1, a2, ..., an, and a target, S. Now you have 2 symbols + and -. For each integer, you should choose one from + and - as its new symbol.\n",
    "\n",
    "Find out how many ways to assign symbols to make sum of integers equal to target S.\n",
    "\n",
    "Input: nums is [1, 1, 1, 1, 1], S is 3. \n",
    "\n",
    "Output: 5\n",
    "Explanation: \n",
    "\n",
    "-1+1+1+1+1 = 3\n",
    "\n",
    "+1-1+1+1+1 = 3\n",
    "\n",
    "+1+1-1+1+1 = 3\n",
    "\n",
    "+1+1+1-1+1 = 3\n",
    "\n",
    "+1+1+1+1-1 = 3"
   ]
  },
  {
   "cell_type": "code",
   "execution_count": 31,
   "metadata": {},
   "outputs": [
    {
     "name": "stdout",
     "output_type": "stream",
     "text": [
      "1 0 0 0 0 \n",
      "1 1 0 0 0 \n",
      "1 2 1 0 0 \n",
      "1 3 3 1 0 \n",
      "1 4 6 4 1 \n",
      "1 5 10 10 5 \n",
      "5\n"
     ]
    }
   ],
   "source": [
    "##### Target Sum problem ,,,,,,\n",
    "def fun(arr,n,sum1):\n",
    "    arr1=[[0 for i in range(sum1+1)] for j in range(n+1)]\n",
    "    \n",
    "    for i in range(n+1):\n",
    "        arr1[i][0]=1\n",
    "        \n",
    "    for i in range(1,sum1+1):\n",
    "        arr1[0][i]=0\n",
    "        \n",
    "    for i in range(1,n+1):\n",
    "        for j in range(1,sum1+1):\n",
    "            if(arr[i-1]<=j):\n",
    "                arr1[i][j]=(arr1[i-1][j] + arr1[i-1][j-arr[i-1]])\n",
    "            else:\n",
    "                arr1[i][j]=arr1[i-1][j]\n",
    "                \n",
    "    for i in range(n+1):\n",
    "        for j in range(sum1+1):\n",
    "            print(arr1[i][j],end=\" \")\n",
    "        print()\n",
    "\n",
    "        \n",
    "    return arr1[n][sum1]\n",
    "\n",
    "arr=[1,1,1,1,1]\n",
    "n=len(arr)\n",
    "diff=3\n",
    "sum1=(diff+sum(arr))//2\n",
    "print(fun(arr,n,sum1))\n",
    "\n",
    "\n",
    "        \n",
    "    \n",
    "\n"
   ]
  },
  {
   "cell_type": "markdown",
   "metadata": {},
   "source": [
    "# Unbounded Knapsack"
   ]
  },
  {
   "cell_type": "markdown",
   "metadata": {},
   "source": [
    "Given a rod of length n inches and an array of prices that contains prices of all pieces of size smaller than n. Determine the maximum value obtainable by cutting up the rod and selling the pieces"
   ]
  },
  {
   "cell_type": "code",
   "execution_count": 14,
   "metadata": {},
   "outputs": [
    {
     "name": "stdout",
     "output_type": "stream",
     "text": [
      "22\n"
     ]
    }
   ],
   "source": [
    "def fun(length,n,price):\n",
    "    arr1=[[0 for i in range(n+1)] for j in range(n+1)]\n",
    "    \n",
    "#     for i in range(n+1):\n",
    "#         arr1[i][0]=0\n",
    "        \n",
    "#     for i in range(1,n+1):\n",
    "#         arr1[0][i]=0\n",
    "        \n",
    "    for i in range(1,n+1):\n",
    "        for j in range(1,n+1):\n",
    "            if(length[i-1]<=j):\n",
    "                arr1[i][j]=max(price[i-1]+ arr1[i][j-length[i-1]],arr1[i-1][j] )\n",
    "            else:\n",
    "                arr1[i][j]=arr1[i-1][j]\n",
    "                            \n",
    "#     for i in range(n+1):\n",
    "#         for j in range(n+1):\n",
    "#             print(arr1[i][j],end=\" \") \n",
    "#         print()\n",
    "        \n",
    "    return arr1[n][n]\n",
    "\n",
    "N=8\n",
    "length_arr=[]\n",
    "for i in range(1,N+1):\n",
    "    length_arr.append(i)    \n",
    "price_arr=[1,5,8,9,10,17,17,20]\n",
    "n=len(arr)\n",
    "sum1=sum(arr)\n",
    "print(fun(length_arr,n,price_arr))\n",
    "                            \n",
    "                        \n",
    "        \n",
    "        "
   ]
  },
  {
   "cell_type": "code",
   "execution_count": 19,
   "metadata": {},
   "outputs": [
    {
     "name": "stdout",
     "output_type": "stream",
     "text": [
      "1\n",
      "84\n",
      "87 78 16 94 36 87 93 50 22 63 28 91 60 64 27 41 27 73 37 12 69 68 30 83 31 63 24 68 36 30 3 23 59 70 68 94 57 12 43 30 74 22 20 85 38 99 25 16 71 14 27 92 81 57 74 63 71 97 82 6 26 85 28 37 6 47 30 14 58 25 96 83 46 15 68 35 65 44 51 88 9 77 79 89\n",
      "7308\n"
     ]
    }
   ],
   "source": [
    "def fun(length,n,price):\n",
    "    arr=[[0 for i in range(n+1)] for j in range(n+1)]\n",
    "    \n",
    "    # for i in range(n+1):\n",
    "    #     arr[i][0]=0\n",
    "        \n",
    "    # for i in range(n+1):\n",
    "    #     arr[0][i]=0\n",
    "    \n",
    "    for i in range(1,n+1):\n",
    "        for j in range(1,n+1):\n",
    "            if(length[i-1]<=j):\n",
    "                arr[i][j]=max(price[i-1]+arr[i][j-length[i-1]],arr[i-1][j])\n",
    "            else:\n",
    "                arr[i][j]=arr[i-1][j]\n",
    "                \n",
    "                \n",
    "#     for i in range(n+1):\n",
    "#         for j in range(n+1):\n",
    "#             print(arr[i][j],end=\" \")\n",
    "#         print()    \n",
    "                \n",
    "    return arr[n][n]\n",
    "    \n",
    "    \n",
    "n=int(input())\n",
    "for _ in range(n):\n",
    "    N=int(input())\n",
    "    length_arr=[i for i in range(1,N+1)]\n",
    "    price_arr=list(map(int,input().split()))\n",
    "    print(fun(length_arr,N,price_arr))\n",
    "    "
   ]
  },
  {
   "cell_type": "code",
   "execution_count": null,
   "metadata": {},
   "outputs": [],
   "source": []
  },
  {
   "cell_type": "markdown",
   "metadata": {},
   "source": [
    "Given a value N, if we want to make change for N cents, and we have infinite supply of each of S = { S1, S2, .. , Sm} valued coins, how many ways can we make the change? The order of coins doesn’t matter.\n",
    "For example, for N = 4 and S = {1,2,3}, there are four solutions: {1,1,1,1},{1,1,2},{2,2},{1,3}. So output should be 4"
   ]
  },
  {
   "cell_type": "code",
   "execution_count": 24,
   "metadata": {},
   "outputs": [
    {
     "name": "stdout",
     "output_type": "stream",
     "text": [
      "1\n",
      "3 \n",
      "1 2 3\n",
      "4\n",
      "1 0 0 0 0 \n",
      "1 1 1 1 1 \n",
      "1 1 2 2 3 \n",
      "1 1 2 3 4 \n",
      "4\n"
     ]
    }
   ],
   "source": [
    "# coin Change # maximum\n",
    "def fun(coin,n,sum1):\n",
    "    arr=[[0 for i in range(sum1+1)] for j in range(n+1)]\n",
    "    \n",
    "    for i in range(n+1):\n",
    "        arr[i][0]=1\n",
    "        \n",
    "    for i in range(1,sum1+1):\n",
    "        arr[0][i]=0\n",
    "        \n",
    "    for i in range(1,n+1):\n",
    "        for j in range(1,sum1+1):\n",
    "            if(coin[i-1]<=j):\n",
    "                arr[i][j]=arr[i-1][j]+arr[i][j-coin[i-1]]\n",
    "            else:\n",
    "                arr[i][j]=arr[i-1][j]\n",
    "                \n",
    "    for i in range(n+1):\n",
    "        for j in range(sum1+1):\n",
    "            print(arr[i][j],end=\" \")\n",
    "        print()\n",
    "        \n",
    "    return arr[n][sum1]    \n",
    "\n",
    "n=int(input())\n",
    "for _ in range(n):\n",
    "    N=int(input())\n",
    "    coin_arr=list(map(int,input().split()))\n",
    "    sum1=int(input())\n",
    "    print(fun(coin_arr,N,sum1))"
   ]
  },
  {
   "cell_type": "code",
   "execution_count": 4,
   "metadata": {},
   "outputs": [
    {
     "name": "stdout",
     "output_type": "stream",
     "text": [
      "2\n"
     ]
    }
   ],
   "source": [
    "### Coin Change ## minimum \n",
    "import sys\n",
    "def function(coin,n,sum1):\n",
    "    arr=[[0 for i in range(sum1+1)] for j in range(n+1)]\n",
    "    \n",
    "    for i in range(1,n+1):\n",
    "        arr[i][0]=0\n",
    "        \n",
    "    for i in range(sum1+1):\n",
    "        arr[0][i]=sys.maxsize\n",
    "        \n",
    "    for i in range(1,sum1+1):\n",
    "        if(i%coin[0]==0):\n",
    "            arr[1][i]=i/coin[0]\n",
    "        else:\n",
    "            arr[1][i]=sys.maxsize\n",
    "            \n",
    "            \n",
    "    for i in range(2,n+1):\n",
    "        for j in range(1,sum1+1):\n",
    "            if(coin[i-1]<=j):\n",
    "                arr[i][j]=min((arr[i][j-coin[i-1]])+1,arr[i-1][j])\n",
    "            else:\n",
    "                arr[i][j]=arr[i-1][j]\n",
    "                \n",
    "                \n",
    "#     for i in range(n+1):\n",
    "#         for j in range(sum1+1):\n",
    "#             print(arr[i][j],end=\" \")\n",
    "#         print()    \n",
    "              \n",
    "    return arr[n][sum1]       \n",
    "\n",
    "coin_arr=[9,6,5,1]\n",
    "n=len(coin_arr)\n",
    "sum1=11\n",
    "print(function(coin_arr,n,sum1))"
   ]
  },
  {
   "cell_type": "markdown",
   "metadata": {},
   "source": [
    "# Longest Common Subsequence"
   ]
  },
  {
   "cell_type": "markdown",
   "metadata": {},
   "source": [
    "LCS for input Sequences “AGGTAB” and “GXTXAYB” is “GTAB” of length 4"
   ]
  },
  {
   "cell_type": "code",
   "execution_count": 11,
   "metadata": {},
   "outputs": [
    {
     "name": "stdout",
     "output_type": "stream",
     "text": [
      "0 0 0 0 0 0 0 0 0 \n",
      "0 0 0 0 0 1 1 1 1 \n",
      "0 1 1 1 1 1 1 1 1 \n",
      "0 1 1 1 1 1 1 1 1 \n",
      "0 1 1 2 2 2 2 2 2 \n",
      "0 1 1 2 2 3 3 3 3 \n",
      "0 1 1 2 2 3 3 3 4 \n",
      "4\n"
     ]
    }
   ],
   "source": [
    "def LCS(x,y,m,n):\n",
    "    t=[[0 for i in range(n+1)] for j in range(m+1)]\n",
    "    \n",
    "    for i in range(m+1):\n",
    "        for j in range(n+1):\n",
    "            if(i==0 or j==0):\n",
    "                t[i][j]=0\n",
    "    \n",
    "    for i in range(1,m+1):\n",
    "        for j in range(1,n+1):\n",
    "            if(x[i-1]==y[j-1]):\n",
    "                t[i][j]=1+t[i-1][j-1]\n",
    "            else:\n",
    "                t[i][j]=max(t[i-1][j],t[i][j-1]) \n",
    "                \n",
    "    for i in range(m+1):\n",
    "        for j in range(n+1):\n",
    "            print(t[i][j],end=\" \")\n",
    "        print()    \n",
    "                \n",
    "    return t[m][n]\n",
    "\n",
    "X_str='AGGTAB'\n",
    "m=len(X_str)\n",
    "Y_str='GXTXAYAB'\n",
    "n=len(Y_str)\n",
    "print(LCS(X_str,Y_str,m,n))"
   ]
  },
  {
   "cell_type": "code",
   "execution_count": 14,
   "metadata": {},
   "outputs": [
    {
     "name": "stdout",
     "output_type": "stream",
     "text": [
      "4\n"
     ]
    }
   ],
   "source": [
    "def LCS1(x,y,m,n):\n",
    "    t=[[0 for i in range(n+1)] for j in range(m+1)]\n",
    "    \n",
    "    for i in range(m+1):\n",
    "        for j in range(n+1):\n",
    "            if(i==0 or j==0):\n",
    "                t[i][j]=0\n",
    "            elif(x[i-1]==y[j-1]):\n",
    "                t[i][j]=1+t[i-1][j-1]\n",
    "            else:\n",
    "                t[i][j]=max(t[i-1][j],t[i][j-1]) \n",
    "                \n",
    "#     for i in range(m+1):\n",
    "#         for j in range(n+1):\n",
    "#             print(t[i][j],end=\" \")\n",
    "#         print()    \n",
    "                \n",
    "    return t[m][n]\n",
    "\n",
    "X_str='AGGTAB'\n",
    "m=len(X_str)\n",
    "Y_str='GXTXAYAB'\n",
    "n=len(Y_str)\n",
    "print(LCS1(X_str,Y_str,m,n))"
   ]
  },
  {
   "cell_type": "code",
   "execution_count": null,
   "metadata": {},
   "outputs": [],
   "source": []
  },
  {
   "cell_type": "markdown",
   "metadata": {},
   "source": [
    "Given two strings ‘X’ and ‘Y’, find the length of the longest common substring.\n",
    "Examples :\n",
    "\n",
    "Input : X = “GeeksforGeeks”, y = “GeeksQuiz”\n",
    "\n",
    "Output : 5"
   ]
  },
  {
   "cell_type": "code",
   "execution_count": 26,
   "metadata": {},
   "outputs": [
    {
     "name": "stdout",
     "output_type": "stream",
     "text": [
      "5\n"
     ]
    }
   ],
   "source": [
    "def LC_Substring(x,y,x_len,y_len):\n",
    "    t=[[0 for i in range(y_len+1)] for j in range(x_len+1)]  \n",
    "    for i in range(x_len+1):\n",
    "        for j in range(y_len+1):\n",
    "            if(i==0 or j==0):\n",
    "                t[i][j]=0\n",
    "    result=0\n",
    "    \n",
    "    for i in range(1,x_len+1):\n",
    "        for j in range(1,y_len+1):\n",
    "            if(x[i-1]==y[j-1]):\n",
    "                t[i][j]=1+t[i-1][j-1]\n",
    "                result=max(result,t[i][j])\n",
    "            else:\n",
    "                t[i][j]=0\n",
    "                \n",
    "#     for i in range(x_len):\n",
    "#         for j in range(y_len):\n",
    "#             print(t[i][j],end=\" \")\n",
    "#         print()    \n",
    "                \n",
    "    return result\n",
    "\n",
    "X ='GeeksforGeeks' \n",
    "y ='GeeksQuiz'\n",
    "m=len(X)\n",
    "n=len(y)\n",
    "print(LC_Substring(X,y,m,n))"
   ]
  },
  {
   "cell_type": "code",
   "execution_count": null,
   "metadata": {},
   "outputs": [],
   "source": []
  },
  {
   "cell_type": "code",
   "execution_count": 34,
   "metadata": {},
   "outputs": [
    {
     "name": "stdout",
     "output_type": "stream",
     "text": [
      "1 1 2 3 5 8 13 21 34 55 "
     ]
    }
   ],
   "source": [
    "# fabonacci series\n",
    "# prev=1\n",
    "# present=1\n",
    "# for _ in range(10-1):\n",
    "#     if(prev==present):\n",
    "#         print(prev,end=\" \")\n",
    "#         print(present,end=\" \")\n",
    "#         present=present+1\n",
    "#     else:\n",
    "#         print(present,end=\" \")\n",
    "#         temp=present\n",
    "#         present=present+prev\n",
    "#         prev=temp"
   ]
  },
  {
   "cell_type": "code",
   "execution_count": null,
   "metadata": {},
   "outputs": [],
   "source": []
  },
  {
   "cell_type": "code",
   "execution_count": 35,
   "metadata": {},
   "outputs": [
    {
     "name": "stdout",
     "output_type": "stream",
     "text": [
      "1\n",
      "11\n",
      "12\n",
      "A\n",
      "2\n"
     ]
    }
   ],
   "source": [
    "def fun1(temp,N):\n",
    "    for i in range(temp,-1,-1):\n",
    "        num=i**2\n",
    "        if(num>N):\n",
    "            continue\n",
    "        else:\n",
    "            num1=0\n",
    "            for j in range(i):\n",
    "                num1=num1+(i-1)**2  \n",
    "            if(num1==N):\n",
    "                return i\n",
    "            if(num1!=N):\n",
    "                print(num1)\n",
    "                print(\"A\")\n",
    "                p=N-num1\n",
    "                return i+p\n",
    "                \n",
    "n=int(input())\n",
    "for _ in range(n):\n",
    "    N=int(input())\n",
    "    temp=N\n",
    "    temp=temp//2\n",
    "    print(fun1(temp,N))\n",
    "        "
   ]
  },
  {
   "cell_type": "markdown",
   "metadata": {},
   "source": [
    "# "
   ]
  },
  {
   "cell_type": "code",
   "execution_count": 3,
   "metadata": {},
   "outputs": [
    {
     "name": "stdout",
     "output_type": "stream",
     "text": [
      "() 11\n"
     ]
    }
   ],
   "source": [
    "import numpy as np\n",
    "A=np.array([1,2])\n",
    "B=np.array([3,4])\n",
    "C=A*B\n",
    "C=np.matmul(A,B)\n",
    "print(C.shape,C)\n"
   ]
  },
  {
   "cell_type": "code",
   "execution_count": null,
   "metadata": {},
   "outputs": [],
   "source": []
  }
 ],
 "metadata": {
  "hide_input": false,
  "kernelspec": {
   "display_name": "Python 3",
   "language": "python",
   "name": "python3"
  },
  "language_info": {
   "codemirror_mode": {
    "name": "ipython",
    "version": 3
   },
   "file_extension": ".py",
   "mimetype": "text/x-python",
   "name": "python",
   "nbconvert_exporter": "python",
   "pygments_lexer": "ipython3",
   "version": "3.7.6"
  },
  "toc": {
   "base_numbering": 1,
   "nav_menu": {},
   "number_sections": true,
   "sideBar": true,
   "skip_h1_title": false,
   "title_cell": "Table of Contents",
   "title_sidebar": "Contents",
   "toc_cell": false,
   "toc_position": {},
   "toc_section_display": true,
   "toc_window_display": false
  },
  "varInspector": {
   "cols": {
    "lenName": 16,
    "lenType": 16,
    "lenVar": 40
   },
   "kernels_config": {
    "python": {
     "delete_cmd_postfix": "",
     "delete_cmd_prefix": "del ",
     "library": "var_list.py",
     "varRefreshCmd": "print(var_dic_list())"
    },
    "r": {
     "delete_cmd_postfix": ") ",
     "delete_cmd_prefix": "rm(",
     "library": "var_list.r",
     "varRefreshCmd": "cat(var_dic_list()) "
    }
   },
   "types_to_exclude": [
    "module",
    "function",
    "builtin_function_or_method",
    "instance",
    "_Feature"
   ],
   "window_display": false
  }
 },
 "nbformat": 4,
 "nbformat_minor": 2
}
